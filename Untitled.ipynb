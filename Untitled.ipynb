{
 "cells": [
  {
   "cell_type": "code",
   "execution_count": 1,
   "id": "6d0e6fb0-4ecc-4478-b360-c3e7e064b922",
   "metadata": {},
   "outputs": [
    {
     "ename": "ZeroDivisionError",
     "evalue": "division by zero",
     "output_type": "error",
     "traceback": [
      "\u001b[1;31m---------------------------------------------------------------------------\u001b[0m",
      "\u001b[1;31mZeroDivisionError\u001b[0m                         Traceback (most recent call last)",
      "Cell \u001b[1;32mIn[1], line 1\u001b[0m\n\u001b[1;32m----> 1\u001b[0m \u001b[38;5;28mprint\u001b[39m(\u001b[38;5;241;43m1\u001b[39;49m\u001b[38;5;241;43m/\u001b[39;49m\u001b[38;5;241;43m0\u001b[39;49m)\n",
      "\u001b[1;31mZeroDivisionError\u001b[0m: division by zero"
     ]
    }
   ],
   "source": [
    "#New Code\n",
    "1 / 0"
   ]
  },
  {
   "cell_type": "code",
   "execution_count": 1,
   "id": "aeae9a0b-f58b-490b-8b86-3a4cca0f20ee",
   "metadata": {},
   "outputs": [
    {
     "name": "stdout",
     "output_type": "stream",
     "text": [
      "ddd\n"
     ]
    }
   ],
   "source": [
    "print(\"ddd\")"
   ]
  },
  {
   "cell_type": "code",
   "execution_count": 1,
   "id": "4e419568-26c7-45d9-a172-17e2c523488b",
   "metadata": {},
   "outputs": [
    {
     "name": "stdout",
     "output_type": "stream",
     "text": [
      "0\n",
      "1\n",
      "2\n",
      "3\n",
      "4\n"
     ]
    }
   ],
   "source": [
    "for i in range(5):\n",
    "    print(i)\n",
    "\n",
    "# Code Explanation:\n",
    "# This is a for loop that iterates over a range of numbers from 0 to 4 (range(5)).\n",
    "# The loop variable 'i' is assigned the value of each number in the range on each iteration.\n",
    "# On each iteration, the current value of 'i' is printed to the console."
   ]
  },
  {
   "cell_type": "code",
   "execution_count": 2,
   "id": "7a082248-69da-45a1-bead-10177cd41bae",
   "metadata": {},
   "outputs": [
    {
     "name": "stdout",
     "output_type": "stream",
     "text": [
      "helloworld!\n"
     ]
    }
   ],
   "source": [
    "print('helloworld!')\n",
    "\n",
    "# Code Explanation:\n",
    "# The code consists of a single line that uses the print() function to display the string 'helloworld!' on the console.\n",
    "# The print() function is a built-in Python function that is used to output text or variables to the console or a file.\n",
    "# In this case, the string 'helloworld!' is passed as an argument to the print() function and it is displayed as output.\n",
    "# The code is written using the Python programming language and is executed from top to bottom."
   ]
  },
  {
   "cell_type": "code",
   "execution_count": null,
   "id": "0cfe8d57-0f32-4daa-bf90-8284eb1701d1",
   "metadata": {},
   "outputs": [],
   "source": []
  }
 ],
 "metadata": {
  "kernelspec": {
   "display_name": "Python 3 (ipykernel)",
   "language": "python",
   "name": "python3"
  },
  "language_info": {
   "codemirror_mode": {
    "name": "ipython",
    "version": 3
   },
   "file_extension": ".py",
   "mimetype": "text/x-python",
   "name": "python",
   "nbconvert_exporter": "python",
   "pygments_lexer": "ipython3",
   "version": "3.10.13"
  }
 },
 "nbformat": 4,
 "nbformat_minor": 5
}
