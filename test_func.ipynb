{
 "cells": [
  {
   "cell_type": "code",
   "execution_count": 1,
   "id": "87729097-8e3c-474d-afc0-3d4618246766",
   "metadata": {},
   "outputs": [],
   "source": [
    "%load_ext chapyter"
   ]
  },
  {
   "cell_type": "code",
   "execution_count": 3,
   "id": "b61c5372-149f-4c13-8775-4562f6b3ab4f",
   "metadata": {
    "ChapyterCell": {
     "cellType": "original",
     "linkedCellId": "629f4b36-4ba1-48eb-b4cc-f2a5aabe6175"
    }
   },
   "outputs": [],
   "source": [
    "%%chat\n",
    "show me the files in this dir"
   ]
  },
  {
   "cell_type": "code",
   "execution_count": 4,
   "id": "629f4b36-4ba1-48eb-b4cc-f2a5aabe6175",
   "metadata": {
    "ChapyterCell": {
     "cellType": "generated",
     "linkedCellId": "b61c5372-149f-4c13-8775-4562f6b3ab4f"
    },
    "jupyter": {
     "source_hidden": true
    }
   },
   "outputs": [
    {
     "name": "stdout",
     "output_type": "stream",
     "text": [
      "['.copier-answers.yml', '.git', '.github', '.gitignore', '.ipynb_checkpoints', '.prettierignore', '.yarn', '.yarnrc.yml', 'babel.config.js', 'binder', 'CHANGELOG.md', 'chapyter', 'install.json', 'jest.config.js', 'jupyterlab_apod', 'lib', 'LICENSE', 'my_first_extension.code-workspace', 'node_modules', 'package.json', 'pyproject.toml', 'README.md', 'RELEASE.md', 'setup.py', 'src', 'style', 'tsconfig.json', 'tsconfig.test.json', 'tsconfig.tsbuildinfo', 'ui-tests', 'Untitled.ipynb', 'webpack.config.chapyter.js', 'webpack.config.jupyterlab_apod.js', 'yarn.lock']\n"
     ]
    }
   ],
   "source": [
    "# Assistant Code for Cell [3]:\n",
    "# Sure, here is the Python code to list all files in the current directory:\n",
    "import os\n",
    "\n",
    "files = os.listdir('.')\n",
    "print(files)"
   ]
  }
 ],
 "metadata": {
  "kernelspec": {
   "display_name": "Python 3 (ipykernel)",
   "language": "python",
   "name": "python3"
  },
  "language_info": {
   "codemirror_mode": {
    "name": "ipython",
    "version": 3
   },
   "file_extension": ".py",
   "mimetype": "text/x-python",
   "name": "python",
   "nbconvert_exporter": "python",
   "pygments_lexer": "ipython3",
   "version": "3.10.13"
  }
 },
 "nbformat": 4,
 "nbformat_minor": 5
}
